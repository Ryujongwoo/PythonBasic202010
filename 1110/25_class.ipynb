{
 "cells": [
  {
   "cell_type": "markdown",
   "metadata": {},
   "source": [
    "class는 데이터와 데이터를 처리하는 메소드(클래스 내부에서 만든 함수)를 가지고 있는 자료형이다. => 사용자 정의 자료형"
   ]
  },
  {
   "cell_type": "code",
   "execution_count": 1,
   "metadata": {},
   "outputs": [],
   "source": [
    "'''\n",
    "class 클래스이름: # 클래스 이름은 다른 변수와 헷갈리지 않게하기 위해서 일반적으로 첫 문자를 대문자로 만들어 사용한다.\n",
    "    # 생성자(초기자) 함수를 만든다. => __init__(self)\n",
    "    # 생성자(constructor)란 객체(클래스로 만든 변수)가 생성될 때 자동으로 실행되는 함수이다.\n",
    "    # 클래스 내부에서 정의하는 모든 함수의 첫 번째 인수로 무조건 self를 사용해야 한다.\n",
    "    # 생성자는 class의 멤버 변수(클래스의 모든 함수에서 사용할 수 있는 변수)를 초기화 시키는 목적으로 사용된다.\n",
    "    def __init__(self[, 인수, ...]):\n",
    "        # 멤버 변수 초기화\n",
    "        # 변수 이름 앞에 'self.'이 붙어있는 변수를 멤버 변수라 부르고 멤버 변수는 클래스 전체에서 사용할 수 있다.\n",
    "        # 변수 이름 앞에 'self.'이 붙어있지 않는 변수를 지역 변수라 부르고 지역 변수는 지역 변수 자신이 선연된 함수에서만\n",
    "        # 사용할 수 있다.\n",
    "    \n",
    "    # 클래스에 저장된 데이터 출력에 사용하는 함수 __str__(self)는 java의 toString() 메소드와 같은 기능을 실행한다.\n",
    "    # __str__(self) 함수를 선언하지 않으면 객체에 저장된 데이터가 아닌 객체가 메모리에 생성된 주소가 출력된다.\n",
    "    def __str__(self):\n",
    "        # return 뒤에 클래스 객체를 출력할 때 출력될 내용을 반드시 문자열 형태로 코딩한다.\n",
    "        return '출력할 내용'\n",
    "'''\n",
    "pass"
   ]
  },
  {
   "cell_type": "code",
   "execution_count": 36,
   "metadata": {},
   "outputs": [],
   "source": [
    "class Calculator:\n",
    "    def __init__(self, *num): # 변수 앞에 '*'을 붙여주면 가변 인자를 받는 인수를 의미한다. => 튜플\n",
    "        print('Calculator 클래스의 객체가 생성될 때 자동으로 실행됩니다.')\n",
    "        # print('생성자 : {}'.format(self))\n",
    "        self.first = 0; self.second = 0; self.third = 0\n",
    "        if len(num) == 1:\n",
    "            self.first = num[0]\n",
    "        elif len(num) == 2:\n",
    "            self.first = num[0]; self.second = num[1]\n",
    "        elif len(num) == 3:\n",
    "            self.first = num[0]; self.second = num[1]; self.third = num[2]\n",
    "    def __str__(self):        \n",
    "        return str(self.first + self.second + self.third)"
   ]
  },
  {
   "cell_type": "code",
   "execution_count": 37,
   "metadata": {},
   "outputs": [
    {
     "name": "stdout",
     "output_type": "stream",
     "text": [
      "Calculator 클래스의 객체가 생성될 때 자동으로 실행됩니다.\n",
      "0\n"
     ]
    }
   ],
   "source": [
    "# class 객체(변수) 선언 방법\n",
    "# 객체(변수)이름 = 클래스이름([생성자로 전달할 데이터, ...])\n",
    "# 클래스의 객체를 선언하면 클래스의 객체가 메모리에 생성된 주소가 생성자의 인수 self로 전달된다.\n",
    "cal1 = Calculator()\n",
    "# 클래스 객체를 클래스에서 '__str__(self)' 함수를 선언하지 않고 출력하면 객체가 메모리에 생성된 주소가 출력된다.\n",
    "print(cal1) # <__main__.Calculator object at 0x000001F1657BC2B0>"
   ]
  },
  {
   "cell_type": "code",
   "execution_count": 38,
   "metadata": {},
   "outputs": [
    {
     "name": "stdout",
     "output_type": "stream",
     "text": [
      "Calculator 클래스의 객체가 생성될 때 자동으로 실행됩니다.\n",
      "100\n"
     ]
    }
   ],
   "source": [
    "cal2 = Calculator(100)\n",
    "print(cal2)"
   ]
  },
  {
   "cell_type": "code",
   "execution_count": 39,
   "metadata": {},
   "outputs": [
    {
     "name": "stdout",
     "output_type": "stream",
     "text": [
      "Calculator 클래스의 객체가 생성될 때 자동으로 실행됩니다.\n",
      "300\n"
     ]
    }
   ],
   "source": [
    "cal3 = Calculator(100, 200)\n",
    "print(cal3)"
   ]
  },
  {
   "cell_type": "code",
   "execution_count": 40,
   "metadata": {},
   "outputs": [
    {
     "name": "stdout",
     "output_type": "stream",
     "text": [
      "Calculator 클래스의 객체가 생성될 때 자동으로 실행됩니다.\n",
      "600\n"
     ]
    }
   ],
   "source": [
    "cal4 = Calculator(100, 200, 300)\n",
    "print(cal4)"
   ]
  },
  {
   "cell_type": "code",
   "execution_count": null,
   "metadata": {},
   "outputs": [],
   "source": []
  },
  {
   "cell_type": "code",
   "execution_count": null,
   "metadata": {},
   "outputs": [],
   "source": []
  },
  {
   "cell_type": "code",
   "execution_count": null,
   "metadata": {},
   "outputs": [],
   "source": []
  },
  {
   "cell_type": "code",
   "execution_count": null,
   "metadata": {},
   "outputs": [],
   "source": []
  }
 ],
 "metadata": {
  "kernelspec": {
   "display_name": "Python 3",
   "language": "python",
   "name": "python3"
  },
  "language_info": {
   "codemirror_mode": {
    "name": "ipython",
    "version": 3
   },
   "file_extension": ".py",
   "mimetype": "text/x-python",
   "name": "python",
   "nbconvert_exporter": "python",
   "pygments_lexer": "ipython3",
   "version": "3.6.8"
  }
 },
 "nbformat": 4,
 "nbformat_minor": 4
}
